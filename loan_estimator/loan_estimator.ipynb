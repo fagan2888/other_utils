{
 "cells": [
  {
   "cell_type": "markdown",
   "metadata": {},
   "source": [
    "This file can be used to estimate the emi or the number of months you need to pay for loan under flat interest rate scheme or diminishing interest rate scheme. inputs are principal in lakhs, annual interest rate and number of years.\n"
   ]
  },
  {
   "cell_type": "code",
   "execution_count": 1,
   "metadata": {},
   "outputs": [],
   "source": [
    "import pandas as pd\n",
    "import numpy as np"
   ]
  },
  {
   "cell_type": "code",
   "execution_count": 21,
   "metadata": {},
   "outputs": [],
   "source": [
    "def group(number):\n",
    "    \"\"\"show money in laks and crores (indian way of presenting money)\"\"\"\n",
    "    s = '%d' % number\n",
    "    groups = []\n",
    "    groups.append(s[-3:])\n",
    "    s = s[:-3]\n",
    "    while s and s[-1].isdigit():\n",
    "        groups.append(s[-2:])\n",
    "        s = s[:-2]\n",
    "    return s + ','.join(reversed(groups))"
   ]
  },
  {
   "cell_type": "code",
   "execution_count": 34,
   "metadata": {},
   "outputs": [],
   "source": [
    "class loan:\n",
    "    def __init__(self,R=8.1,principal=30,years=5):\n",
    "        \"\"\"R is yearly interest\n",
    "        principal is principal amount in lakhs\n",
    "        years = number of years\n",
    "        \"\"\"\n",
    "        self.R = R*0.01\n",
    "        self.r = R*0.01*(1/12)\n",
    "        self.principal = principal*100000\n",
    "        self.years=years\n",
    "        self.num_months = self.years*12\n",
    "        self.months = {\"Jan\":31, \"Feb\":28,\"Mar\":31,\"Apr\":30,\"May\":31,\"June\":30,\"Jul\":31,\"Aug\":31,\"Sep\":30,\"Oct\":31,\"Nov\":30,\"Dec\":31}\n",
    "        \n",
    "    def find_monthly_emi_flat(self, print_ =True):\n",
    "        \"\"\" find how much emi need to be paid given some principal, interest, and number of months when the interest scheme is flat\"\"\"\n",
    "        \n",
    "        total = self.principal*(1+self.R*(self.num_months/12))\n",
    "        if print_:\n",
    "            print(\"------------- flat interest -------------------\")\n",
    "            print(\"total amount you are paying over full period:\",total)\n",
    "            print(\"monthly installment/emi : {}\".format(total/self.num_months))\n",
    "        return total,total/self.num_months\n",
    "\n",
    "    def num_months_emi_diminishing(self,emi ,principal =0 , interest=0,print_ =True):\n",
    "        \"\"\"find the number of months you need to pay for, if you are paying emi every month\"\"\"\n",
    "        \"\"\"emi is in rupees, principal is in lakhs, interest is yearly interest\"\"\"\n",
    "        \"\"\"n = np.log((E/r)/(E/r -P))/np.log(1+r) \"\"\"\n",
    "        \n",
    "        if not principal:\n",
    "            principal = self.principal\n",
    "        if not interest:\n",
    "            interest = self.r\n",
    "        num_months = np.log((emi/interest)/(emi/interest -principal))/np.log(1+interest)\n",
    "        if print_:\n",
    "            print(\"------------- diminishing interest -------------------\")\n",
    "            print(\"you need to pay {} monthly, for {} months\".format(emi, num_months))\n",
    "        return  num_months\n",
    "    \n",
    "    def find_monthly_emi_diminishing(self,num_months=0,principal = 0,print_ =True):\n",
    "        \"\"\" find how much emi need to be paid given some principal, interest, and number of months when the interest scheme is flat\"\"\"\n",
    "        \"\"\"P*r*(1 + 1/(np.power(1+r,60)-1))\"\"\"\n",
    "        \n",
    "        if not num_months:\n",
    "            num_months = self.num_months\n",
    "        if not principal:\n",
    "            principal = self.principal\n",
    "        else:\n",
    "            principal*=100000\n",
    "        monthly_emi = principal*self.r*(1 + 1/(np.power(1+self.r,num_months)-1))\n",
    "        if print_:\n",
    "            print(\"------------- diminishing interest -------------------\")\n",
    "            print(\" you need to pay {} monthly, for {} months\".format(monthly_emi,num_months))\n",
    "            print(\"total amount you will pay over full period is roughly {}\".format(monthly_emi*num_months))\n",
    "        return monthly_emi\n",
    "            \n",
    "    def confirm_diminishing(self,emi,print_ = False):\n",
    "        \"\"\" function to confirm if the interest scheme is dimishing\"\"\"\n",
    "        principal = self.principal\n",
    "        i = 1\n",
    "        while principal>0:\n",
    "            principal+=((self.r)*principal-emi)\n",
    "            if print_:\n",
    "                print(i,principal)\n",
    "            i+=1\n",
    "        if abs(principal/self.principal) < 0.001:\n",
    "            print(\"final net amount is {} after {} months\".format(principal, i-1))\n",
    "        return principal, i\n",
    "            "
   ]
  },
  {
   "cell_type": "code",
   "execution_count": 28,
   "metadata": {
    "scrolled": true
   },
   "outputs": [
    {
     "name": "stdout",
     "output_type": "stream",
     "text": [
      "------------- flat interest -------------------\n",
      "total amount you are paying over full period: 4417500.0\n",
      "monthly installment/emi : 81805.55555555556\n",
      "------------- diminishing interest -------------------\n",
      "you need to pay 35000 monthly, for 159.1257820098328 months\n",
      "------------- diminishing interest -------------------\n",
      " you need to pay 69948.58010333449 monthly, for 54.0 months\n",
      "total amount you will pay over full period is roughly 3777223.3255800623\n"
     ]
    },
    {
     "data": {
      "text/plain": [
       "69948.58010333449"
      ]
     },
     "execution_count": 28,
     "metadata": {},
     "output_type": "execute_result"
    }
   ],
   "source": [
    "## Usage\n",
    "R = 10.5 #10.5 % monthly interest rate\n",
    "principal = 30 # principal is 30 lakhs\n",
    "years = 4.5 # loan term period is 4.5 years\n",
    "loan1 = loan(R,principal,years) # initialize a loan instance\n",
    "\n",
    "(loan1.find_monthly_emi_flat())\n",
    "(loan1.num_months_emi_diminishing(35000))\n",
    "(loan1.find_monthly_emi_diminishing())"
   ]
  },
  {
   "cell_type": "markdown",
   "metadata": {},
   "source": [
    "### diminishing 10.5 rate\n",
    "make a table to find how much emi to be paid for different principals over different tenure/periods"
   ]
  },
  {
   "cell_type": "code",
   "execution_count": 38,
   "metadata": {},
   "outputs": [],
   "source": [
    "loan1 = loan(10.5,principal = 30, years =5)\n",
    "# print(loan1.find_monthly_emi_diminishing())\n",
    "\n",
    "years = [2,3,4,5]\n",
    "amounts = [15,20,25]\n",
    "yearss = [str(x)+'y' for x in years]\n",
    "df = pd.DataFrame(columns=yearss)\n",
    "total = pd.DataFrame(columns = yearss)\n",
    "for amount in amounts:\n",
    "    arr=[]\n",
    "    arr1 = []\n",
    "    for year in years:\n",
    "#         print(amount,year)\n",
    "        temp = loan1.find_monthly_emi_diminishing(num_months=year*12, principal=amount,print_ = False)\n",
    "        arr.append(group(round(int(temp),-2))) # rounding to closest hundred\n",
    "        arr1.append(group(round(int(temp*year*12),-2)))\n",
    "    df.loc[str(amount)+'Lks']=arr\n",
    "    total.loc[str(amount)+'Lks']=arr1"
   ]
  },
  {
   "cell_type": "markdown",
   "metadata": {},
   "source": [
    "## EMI, diminishing 10.5 rate"
   ]
  },
  {
   "cell_type": "code",
   "execution_count": 39,
   "metadata": {
    "scrolled": false
   },
   "outputs": [
    {
     "data": {
      "text/html": [
       "<div>\n",
       "<style scoped>\n",
       "    .dataframe tbody tr th:only-of-type {\n",
       "        vertical-align: middle;\n",
       "    }\n",
       "\n",
       "    .dataframe tbody tr th {\n",
       "        vertical-align: top;\n",
       "    }\n",
       "\n",
       "    .dataframe thead th {\n",
       "        text-align: right;\n",
       "    }\n",
       "</style>\n",
       "<table border=\"1\" class=\"dataframe\">\n",
       "  <thead>\n",
       "    <tr style=\"text-align: right;\">\n",
       "      <th></th>\n",
       "      <th>2y</th>\n",
       "      <th>3y</th>\n",
       "      <th>4y</th>\n",
       "      <th>5y</th>\n",
       "    </tr>\n",
       "  </thead>\n",
       "  <tbody>\n",
       "    <tr>\n",
       "      <th>15Lks</th>\n",
       "      <td>69,600</td>\n",
       "      <td>48,800</td>\n",
       "      <td>38,400</td>\n",
       "      <td>32,200</td>\n",
       "    </tr>\n",
       "    <tr>\n",
       "      <th>20Lks</th>\n",
       "      <td>92,800</td>\n",
       "      <td>65,000</td>\n",
       "      <td>51,200</td>\n",
       "      <td>43,000</td>\n",
       "    </tr>\n",
       "    <tr>\n",
       "      <th>25Lks</th>\n",
       "      <td>1,15,900</td>\n",
       "      <td>81,300</td>\n",
       "      <td>64,000</td>\n",
       "      <td>53,700</td>\n",
       "    </tr>\n",
       "  </tbody>\n",
       "</table>\n",
       "</div>"
      ],
      "text/plain": [
       "             2y      3y      4y      5y\n",
       "15Lks    69,600  48,800  38,400  32,200\n",
       "20Lks    92,800  65,000  51,200  43,000\n",
       "25Lks  1,15,900  81,300  64,000  53,700"
      ]
     },
     "execution_count": 39,
     "metadata": {},
     "output_type": "execute_result"
    }
   ],
   "source": [
    "df"
   ]
  },
  {
   "cell_type": "markdown",
   "metadata": {},
   "source": [
    "## total, diminishing 10.5 rate"
   ]
  },
  {
   "cell_type": "code",
   "execution_count": 40,
   "metadata": {
    "scrolled": false
   },
   "outputs": [
    {
     "data": {
      "text/html": [
       "<div>\n",
       "<style scoped>\n",
       "    .dataframe tbody tr th:only-of-type {\n",
       "        vertical-align: middle;\n",
       "    }\n",
       "\n",
       "    .dataframe tbody tr th {\n",
       "        vertical-align: top;\n",
       "    }\n",
       "\n",
       "    .dataframe thead th {\n",
       "        text-align: right;\n",
       "    }\n",
       "</style>\n",
       "<table border=\"1\" class=\"dataframe\">\n",
       "  <thead>\n",
       "    <tr style=\"text-align: right;\">\n",
       "      <th></th>\n",
       "      <th>2y</th>\n",
       "      <th>3y</th>\n",
       "      <th>4y</th>\n",
       "      <th>5y</th>\n",
       "    </tr>\n",
       "  </thead>\n",
       "  <tbody>\n",
       "    <tr>\n",
       "      <th>15Lks</th>\n",
       "      <td>16,69,500</td>\n",
       "      <td>17,55,100</td>\n",
       "      <td>18,43,400</td>\n",
       "      <td>19,34,500</td>\n",
       "    </tr>\n",
       "    <tr>\n",
       "      <th>20Lks</th>\n",
       "      <td>22,26,000</td>\n",
       "      <td>23,40,200</td>\n",
       "      <td>24,57,900</td>\n",
       "      <td>25,79,300</td>\n",
       "    </tr>\n",
       "    <tr>\n",
       "      <th>25Lks</th>\n",
       "      <td>27,82,600</td>\n",
       "      <td>29,25,200</td>\n",
       "      <td>30,72,400</td>\n",
       "      <td>32,24,100</td>\n",
       "    </tr>\n",
       "  </tbody>\n",
       "</table>\n",
       "</div>"
      ],
      "text/plain": [
       "              2y         3y         4y         5y\n",
       "15Lks  16,69,500  17,55,100  18,43,400  19,34,500\n",
       "20Lks  22,26,000  23,40,200  24,57,900  25,79,300\n",
       "25Lks  27,82,600  29,25,200  30,72,400  32,24,100"
      ]
     },
     "execution_count": 40,
     "metadata": {},
     "output_type": "execute_result"
    }
   ],
   "source": [
    "total"
   ]
  },
  {
   "cell_type": "code",
   "execution_count": null,
   "metadata": {},
   "outputs": [],
   "source": []
  }
 ],
 "metadata": {
  "kernelspec": {
   "display_name": "Python 3",
   "language": "python",
   "name": "python3"
  },
  "language_info": {
   "codemirror_mode": {
    "name": "ipython",
    "version": 3
   },
   "file_extension": ".py",
   "mimetype": "text/x-python",
   "name": "python",
   "nbconvert_exporter": "python",
   "pygments_lexer": "ipython3",
   "version": "3.8.5"
  }
 },
 "nbformat": 4,
 "nbformat_minor": 4
}
